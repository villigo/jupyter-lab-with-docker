{
 "cells": [
  {
   "cell_type": "code",
   "execution_count": 1,
   "id": "70b73a8c-2b89-44bf-9171-0c0cc68b39cd",
   "metadata": {},
   "outputs": [
    {
     "name": "stdout",
     "output_type": "stream",
     "text": [
      "Privet\n"
     ]
    }
   ],
   "source": [
    "print('Privet')"
   ]
  },
  {
   "cell_type": "code",
   "execution_count": 2,
   "id": "b90461ec-988f-48dd-a0db-d37105ff6bdf",
   "metadata": {},
   "outputs": [
    {
     "name": "stdout",
     "output_type": "stream",
     "text": [
      "12\n"
     ]
    }
   ],
   "source": [
    "if 0 < 1:\n",
    "    print('12')"
   ]
  },
  {
   "cell_type": "code",
   "execution_count": 3,
   "id": "c98bf5fd-9a2a-4e0d-8f3e-0d4562a04205",
   "metadata": {},
   "outputs": [],
   "source": [
    "import pandas as pd"
   ]
  },
  {
   "cell_type": "code",
   "execution_count": null,
   "id": "877679d6-60a1-4ff4-bd9d-3c564eff8761",
   "metadata": {},
   "outputs": [],
   "source": []
  }
 ],
 "metadata": {
  "kernelspec": {
   "display_name": "Python 3 (ipykernel)",
   "language": "python",
   "name": "python3"
  },
  "language_info": {
   "codemirror_mode": {
    "name": "ipython",
    "version": 3
   },
   "file_extension": ".py",
   "mimetype": "text/x-python",
   "name": "python",
   "nbconvert_exporter": "python",
   "pygments_lexer": "ipython3",
   "version": "3.9.19"
  }
 },
 "nbformat": 4,
 "nbformat_minor": 5
}
